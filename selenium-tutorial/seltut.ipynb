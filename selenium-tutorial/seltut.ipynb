{
 "cells": [
  {
   "cell_type": "code",
   "execution_count": 1,
   "metadata": {},
   "outputs": [],
   "source": [
    "# video: https://youtube.com/watch?v=iJGvYBH9mcY&si=EnSIkaIECMiOmarE\n",
    "\n",
    "import os\n",
    "import wget\n",
    "\n",
    "# Install selenium module with pip and then we have the imports\n",
    "from selenium import webdriver\n",
    "from selenium.webdriver.common.keys import Keys\n",
    "from selenium.webdriver.support import expected_conditions as EC\n",
    "from selenium.webdriver.common.by import By\n",
    "from selenium.webdriver.support.wait import WebDriverWait\n"
   ]
  },
  {
   "cell_type": "code",
   "execution_count": 26,
   "metadata": {},
   "outputs": [],
   "source": [
    "import keyring\n",
    "INSTACREDS = ( 'walmartfrankocean', keyring.get_password('https://www.instagram.com/', 'walmartfrankocean') )"
   ]
  },
  {
   "cell_type": "code",
   "execution_count": 27,
   "metadata": {},
   "outputs": [],
   "source": [
    "import time"
   ]
  },
  {
   "cell_type": "code",
   "execution_count": 59,
   "metadata": {},
   "outputs": [
    {
     "name": "stderr",
     "output_type": "stream",
     "text": [
      "C:\\Users\\omnic\\AppData\\Local\\Temp\\ipykernel_23484\\2517632052.py:6: DeprecationWarning: executable_path has been deprecated, please pass in a Service object\n",
      "  driver = webdriver.Chrome(\"C:/Users/omnic/local/chrome_driver/chromedriver.exe\")\n"
     ]
    }
   ],
   "source": [
    "# To use selenium we need drivers for chrome\n",
    "# Download latest release from https://chromedriver.chromium.org/\n",
    "# Extract zip and take note of save location: C:/Users/omnic/local/chrome_driver/chromedriver.exe\n",
    "\n",
    "# load chrome driver\n",
    "driver = webdriver.Chrome(\"C:/Users/omnic/local/chrome_driver/chromedriver.exe\")"
   ]
  },
  {
   "cell_type": "code",
   "execution_count": 60,
   "metadata": {},
   "outputs": [],
   "source": [
    "# use this to tell the browser to go to a specific page\n",
    "driver.get(\"https://www.instagram.com/\")"
   ]
  },
  {
   "cell_type": "code",
   "execution_count": 62,
   "metadata": {},
   "outputs": [],
   "source": [
    "# get the username field of the instagram login\n",
    "# note that page components do not load instantly, so we have to wait for components to load\n",
    "\n",
    "# using web driver wait to wait until the item is clickable\n",
    "# element is found with CSS selector by looking for an input tag with name attribute that is username\n",
    "username = WebDriverWait(driver, 10).until( EC.element_to_be_clickable((By.CSS_SELECTOR, \"input[name='username']\")) )\n",
    "\n",
    "# do the same with password\n",
    "password = WebDriverWait(driver, 10).until( EC.element_to_be_clickable((By.CSS_SELECTOR, \"input[name='password']\")) )"
   ]
  },
  {
   "cell_type": "code",
   "execution_count": 63,
   "metadata": {},
   "outputs": [],
   "source": [
    "# objects allow us to push data to those input fields,\n",
    "# so we can push our credentials\n",
    "username.clear() # clears the field first\n",
    "password.clear() \n",
    "\n",
    "username.send_keys(INSTACREDS[0])\n",
    "password.send_keys(INSTACREDS[1])"
   ]
  },
  {
   "cell_type": "code",
   "execution_count": 64,
   "metadata": {},
   "outputs": [],
   "source": [
    "# find the log in button and use button and type submit\n",
    "login_btn = WebDriverWait(driver, 10).until( EC.element_to_be_clickable((By.CSS_SELECTOR, \"button[type='submit']\") ))\n",
    "\n",
    "login_btn.click()"
   ]
  },
  {
   "cell_type": "code",
   "execution_count": 65,
   "metadata": {},
   "outputs": [],
   "source": [
    "# Clicking \"Not Now\" button for saving log in information\n",
    "# In this case we cant just target the button, too general, we have to target specific text\n",
    "# Using the xpath selector now, which has different syntax to css selector\n",
    "\n",
    "# could not parse save log in not now for some reason??, take note of that\n",
    "\n",
    "not_now_button = WebDriverWait(driver, 5).until(EC.element_to_be_clickable((By.XPATH, \"//button[contains(text(), 'Not Now')]\")))\n",
    "not_now_button.click()"
   ]
  },
  {
   "cell_type": "code",
   "execution_count": 66,
   "metadata": {},
   "outputs": [],
   "source": [
    "def get_clickable_elem(selector:tuple, timeout=5, hold=2):\n",
    "    if hold > 0:\n",
    "        print('Holding')\n",
    "        time.sleep(hold)\n",
    "    print('Running')\n",
    "    r = WebDriverWait(driver, 5).until(EC.element_to_be_clickable(selector))\n",
    "    print('Done')\n",
    "    return r\n"
   ]
  },
  {
   "cell_type": "code",
   "execution_count": 67,
   "metadata": {},
   "outputs": [],
   "source": [
    "def delaycall(func:None, delay=2):\n",
    "    if delay > 0:\n",
    "        print('Delay')\n",
    "        time.sleep(delay)\n",
    "    return func"
   ]
  },
  {
   "cell_type": "code",
   "execution_count": 68,
   "metadata": {},
   "outputs": [
    {
     "name": "stdout",
     "output_type": "stream",
     "text": [
      "Holding\n",
      "Running\n",
      "Done\n",
      "Delay\n"
     ]
    }
   ],
   "source": [
    "# doing search and putting a search keys\n",
    "\n",
    "# get the search button by searching for the search icon svg\n",
    "search_btn = get_clickable_elem((By.CSS_SELECTOR, \"svg[aria-label='Search']\"))\n",
    "delaycall(search_btn.click)()"
   ]
  },
  {
   "cell_type": "code",
   "execution_count": 69,
   "metadata": {},
   "outputs": [
    {
     "name": "stdout",
     "output_type": "stream",
     "text": [
      "Holding\n",
      "Running\n",
      "Done\n",
      "<selenium.webdriver.remote.webelement.WebElement (session=\"5dfb93b8be7b68a6cf505f042dbb349c\", element=\"7c63c669-1cdd-4379-adee-e8d4fe9d4db0\")>\n",
      "Delay\n",
      "Delay\n"
     ]
    }
   ],
   "source": [
    "# get the search field\n",
    "search_field = get_clickable_elem((By.CSS_SELECTOR, \"input[aria-label='Search input']\"))\n",
    "print(search_field)\n",
    "delaycall(search_field.clear)()\n",
    "delaycall(search_field.send_keys)('#knotlesshair')"
   ]
  },
  {
   "cell_type": "code",
   "execution_count": null,
   "metadata": {},
   "outputs": [],
   "source": []
  }
 ],
 "metadata": {
  "kernelspec": {
   "display_name": "Python 3",
   "language": "python",
   "name": "python3"
  },
  "language_info": {
   "codemirror_mode": {
    "name": "ipython",
    "version": 3
   },
   "file_extension": ".py",
   "mimetype": "text/x-python",
   "name": "python",
   "nbconvert_exporter": "python",
   "pygments_lexer": "ipython3",
   "version": "3.10.4"
  },
  "orig_nbformat": 4
 },
 "nbformat": 4,
 "nbformat_minor": 2
}
