{
 "cells": [
  {
   "cell_type": "code",
   "execution_count": 256,
   "metadata": {},
   "outputs": [],
   "source": [
    "# video: https://youtube.com/watch?v=iJGvYBH9mcY&si=EnSIkaIECMiOmarE\n",
    "\n",
    "import os\n",
    "import wget\n",
    "\n",
    "# Install selenium module with pip and then we have the imports\n",
    "from selenium import webdriver\n",
    "from selenium.webdriver.common.keys import Keys\n",
    "from selenium.webdriver.support import expected_conditions as EC\n",
    "from selenium.webdriver.common.by import By\n",
    "from selenium.webdriver.support.wait import WebDriverWait\n"
   ]
  },
  {
   "cell_type": "code",
   "execution_count": 257,
   "metadata": {},
   "outputs": [],
   "source": [
    "INSTACREDS = ( 'nsbehacker@gmail.com', 'NsbeHack2023')"
   ]
  },
  {
   "cell_type": "code",
   "execution_count": 258,
   "metadata": {},
   "outputs": [],
   "source": [
    "import time"
   ]
  },
  {
   "cell_type": "code",
   "execution_count": 259,
   "metadata": {},
   "outputs": [
    {
     "name": "stderr",
     "output_type": "stream",
     "text": [
      "C:\\Users\\Admin\\AppData\\Local\\Temp\\ipykernel_19756\\273491868.py:6: DeprecationWarning: executable_path has been deprecated, please pass in a Service object\n",
      "  driver = webdriver.Chrome(\"C:/Users/Admin/chromedriver.exe\")\n"
     ]
    }
   ],
   "source": [
    "# To use selenium we need drivers for chrome\n",
    "# Download latest release from https://chromedriver.chromium.org/\n",
    "# Extract zip and take note of save location: C:/Users/omnic/local/chrome_driver/chromedriver.exe\n",
    "\n",
    "# load chrome driver\n",
    "driver = webdriver.Chrome(\"C:/Users/Admin/chromedriver.exe\")"
   ]
  },
  {
   "cell_type": "code",
   "execution_count": 260,
   "metadata": {},
   "outputs": [],
   "source": [
    "# use this to tell the browser to go to a specific page\n",
    "driver.get(\"https://www.instagram.com/\")"
   ]
  },
  {
   "cell_type": "code",
   "execution_count": 261,
   "metadata": {},
   "outputs": [],
   "source": [
    "# get the username field of the instagram login\n",
    "# note that page components do not load instantly, so we have to wait for components to load\n",
    "\n",
    "# using web driver wait to wait until the item is clickable\n",
    "# element is found with CSS selector by looking for an input tag with name attribute that is username\n",
    "username = WebDriverWait(driver, 10).until( EC.element_to_be_clickable((By.CSS_SELECTOR, \"input[name='username']\")) )\n",
    "\n",
    "# do the same with password\n",
    "password = WebDriverWait(driver, 10).until( EC.element_to_be_clickable((By.CSS_SELECTOR, \"input[name='password']\")) )"
   ]
  },
  {
   "cell_type": "code",
   "execution_count": 262,
   "metadata": {},
   "outputs": [],
   "source": [
    "# objects allow us to push data to those input fields,\n",
    "# so we can push our credentials\n",
    "username.clear() # clears the field first\n",
    "password.clear() \n",
    "\n",
    "username.send_keys(INSTACREDS[0])\n",
    "password.send_keys(INSTACREDS[1])"
   ]
  },
  {
   "cell_type": "code",
   "execution_count": 263,
   "metadata": {},
   "outputs": [],
   "source": [
    "# find the log in button and use button and type submit\n",
    "login_btn = WebDriverWait(driver, 10).until( EC.element_to_be_clickable((By.CSS_SELECTOR, \"button[type='submit']\") ))\n",
    "\n",
    "login_btn.click()"
   ]
  },
  {
   "cell_type": "code",
   "execution_count": 264,
   "metadata": {},
   "outputs": [
    {
     "ename": "NoSuchWindowException",
     "evalue": "Message: no such window: target window already closed\nfrom unknown error: web view not found\n  (Session info: chrome=110.0.5481.178)\nStacktrace:\nBacktrace:\n\t(No symbol) [0x010637D3]\n\t(No symbol) [0x00FF8B81]\n\t(No symbol) [0x00EFB36D]\n\t(No symbol) [0x00EDE5DA]\n\t(No symbol) [0x00F4F0CB]\n\t(No symbol) [0x00F60A56]\n\t(No symbol) [0x00F4B216]\n\t(No symbol) [0x00F20D97]\n\t(No symbol) [0x00F2253D]\n\tGetHandleVerifier [0x012DABF2+2510930]\n\tGetHandleVerifier [0x01308EC1+2700065]\n\tGetHandleVerifier [0x0130C86C+2714828]\n\tGetHandleVerifier [0x01113480+645344]\n\t(No symbol) [0x01000FD2]\n\t(No symbol) [0x01006C68]\n\t(No symbol) [0x01006D4B]\n\t(No symbol) [0x01010D6B]\n\tBaseThreadInitThunk [0x75C000F9+25]\n\tRtlGetAppContainerNamedObjectPath [0x77D07BBE+286]\n\tRtlGetAppContainerNamedObjectPath [0x77D07B8E+238]\n",
     "output_type": "error",
     "traceback": [
      "\u001b[1;31m---------------------------------------------------------------------------\u001b[0m",
      "\u001b[1;31mNoSuchWindowException\u001b[0m                     Traceback (most recent call last)",
      "Cell \u001b[1;32mIn[264], line 7\u001b[0m\n\u001b[0;32m      1\u001b[0m \u001b[39m# Clicking \"Not Now\" button for saving log in information\u001b[39;00m\n\u001b[0;32m      2\u001b[0m \u001b[39m# In this case we cant just target the button, too general, we have to target specific text\u001b[39;00m\n\u001b[0;32m      3\u001b[0m \u001b[39m# Using the xpath selector now, which has different syntax to css selector\u001b[39;00m\n\u001b[0;32m      4\u001b[0m \n\u001b[0;32m      5\u001b[0m \u001b[39m# could not parse save log in not now for some reason??, take note of that\u001b[39;00m\n\u001b[1;32m----> 7\u001b[0m not_now_button \u001b[39m=\u001b[39m WebDriverWait(driver, \u001b[39m5\u001b[39;49m)\u001b[39m.\u001b[39;49muntil(EC\u001b[39m.\u001b[39;49melement_to_be_clickable((By\u001b[39m.\u001b[39;49mXPATH, \u001b[39m\"\u001b[39;49m\u001b[39m//button[contains(text(), \u001b[39;49m\u001b[39m'\u001b[39;49m\u001b[39mNot Now\u001b[39;49m\u001b[39m'\u001b[39;49m\u001b[39m)]\u001b[39;49m\u001b[39m\"\u001b[39;49m)))\n\u001b[0;32m      8\u001b[0m not_now_button\u001b[39m.\u001b[39mclick()\n\u001b[0;32m     10\u001b[0m \u001b[39m#push notifcation prompt\u001b[39;00m\n\u001b[0;32m     11\u001b[0m \u001b[39m#not_now_button2 = WebDriverWait(driver, 5).until(EC.element_to_be_clickable((By.XPATH, \"//button[contains(text(), 'Not Now')]\")))\u001b[39;00m\n\u001b[0;32m     12\u001b[0m \u001b[39m#not_now_button2.click()\u001b[39;00m\n",
      "File \u001b[1;32mc:\\Users\\Admin\\Documents\\NSBEhackathon\\nsbehacks2023\\.venv\\Lib\\site-packages\\selenium\\webdriver\\support\\wait.py:86\u001b[0m, in \u001b[0;36mWebDriverWait.until\u001b[1;34m(self, method, message)\u001b[0m\n\u001b[0;32m     84\u001b[0m \u001b[39mwhile\u001b[39;00m \u001b[39mTrue\u001b[39;00m:\n\u001b[0;32m     85\u001b[0m     \u001b[39mtry\u001b[39;00m:\n\u001b[1;32m---> 86\u001b[0m         value \u001b[39m=\u001b[39m method(\u001b[39mself\u001b[39;49m\u001b[39m.\u001b[39;49m_driver)\n\u001b[0;32m     87\u001b[0m         \u001b[39mif\u001b[39;00m value:\n\u001b[0;32m     88\u001b[0m             \u001b[39mreturn\u001b[39;00m value\n",
      "File \u001b[1;32mc:\\Users\\Admin\\Documents\\NSBEhackathon\\nsbehacks2023\\.venv\\Lib\\site-packages\\selenium\\webdriver\\support\\expected_conditions.py:334\u001b[0m, in \u001b[0;36melement_to_be_clickable.<locals>._predicate\u001b[1;34m(driver)\u001b[0m\n\u001b[0;32m    332\u001b[0m target \u001b[39m=\u001b[39m mark\n\u001b[0;32m    333\u001b[0m \u001b[39mif\u001b[39;00m \u001b[39mnot\u001b[39;00m \u001b[39misinstance\u001b[39m(target, WebElement):  \u001b[39m# if given locator instead of WebElement\u001b[39;00m\n\u001b[1;32m--> 334\u001b[0m     target \u001b[39m=\u001b[39m driver\u001b[39m.\u001b[39;49mfind_element(\u001b[39m*\u001b[39;49mtarget)  \u001b[39m# grab element at locator\u001b[39;00m\n\u001b[0;32m    335\u001b[0m target \u001b[39m=\u001b[39m visibility_of(target)(driver)\n\u001b[0;32m    336\u001b[0m \u001b[39mif\u001b[39;00m target \u001b[39mand\u001b[39;00m target\u001b[39m.\u001b[39mis_enabled():\n",
      "File \u001b[1;32mc:\\Users\\Admin\\Documents\\NSBEhackathon\\nsbehacks2023\\.venv\\Lib\\site-packages\\selenium\\webdriver\\remote\\webdriver.py:830\u001b[0m, in \u001b[0;36mWebDriver.find_element\u001b[1;34m(self, by, value)\u001b[0m\n\u001b[0;32m    827\u001b[0m     by \u001b[39m=\u001b[39m By\u001b[39m.\u001b[39mCSS_SELECTOR\n\u001b[0;32m    828\u001b[0m     value \u001b[39m=\u001b[39m \u001b[39mf\u001b[39m\u001b[39m'\u001b[39m\u001b[39m[name=\u001b[39m\u001b[39m\"\u001b[39m\u001b[39m{\u001b[39;00mvalue\u001b[39m}\u001b[39;00m\u001b[39m\"\u001b[39m\u001b[39m]\u001b[39m\u001b[39m'\u001b[39m\n\u001b[1;32m--> 830\u001b[0m \u001b[39mreturn\u001b[39;00m \u001b[39mself\u001b[39;49m\u001b[39m.\u001b[39;49mexecute(Command\u001b[39m.\u001b[39;49mFIND_ELEMENT, {\u001b[39m\"\u001b[39;49m\u001b[39musing\u001b[39;49m\u001b[39m\"\u001b[39;49m: by, \u001b[39m\"\u001b[39;49m\u001b[39mvalue\u001b[39;49m\u001b[39m\"\u001b[39;49m: value})[\u001b[39m\"\u001b[39m\u001b[39mvalue\u001b[39m\u001b[39m\"\u001b[39m]\n",
      "File \u001b[1;32mc:\\Users\\Admin\\Documents\\NSBEhackathon\\nsbehacks2023\\.venv\\Lib\\site-packages\\selenium\\webdriver\\remote\\webdriver.py:440\u001b[0m, in \u001b[0;36mWebDriver.execute\u001b[1;34m(self, driver_command, params)\u001b[0m\n\u001b[0;32m    438\u001b[0m response \u001b[39m=\u001b[39m \u001b[39mself\u001b[39m\u001b[39m.\u001b[39mcommand_executor\u001b[39m.\u001b[39mexecute(driver_command, params)\n\u001b[0;32m    439\u001b[0m \u001b[39mif\u001b[39;00m response:\n\u001b[1;32m--> 440\u001b[0m     \u001b[39mself\u001b[39;49m\u001b[39m.\u001b[39;49merror_handler\u001b[39m.\u001b[39;49mcheck_response(response)\n\u001b[0;32m    441\u001b[0m     response[\u001b[39m\"\u001b[39m\u001b[39mvalue\u001b[39m\u001b[39m\"\u001b[39m] \u001b[39m=\u001b[39m \u001b[39mself\u001b[39m\u001b[39m.\u001b[39m_unwrap_value(response\u001b[39m.\u001b[39mget(\u001b[39m\"\u001b[39m\u001b[39mvalue\u001b[39m\u001b[39m\"\u001b[39m, \u001b[39mNone\u001b[39;00m))\n\u001b[0;32m    442\u001b[0m     \u001b[39mreturn\u001b[39;00m response\n",
      "File \u001b[1;32mc:\\Users\\Admin\\Documents\\NSBEhackathon\\nsbehacks2023\\.venv\\Lib\\site-packages\\selenium\\webdriver\\remote\\errorhandler.py:245\u001b[0m, in \u001b[0;36mErrorHandler.check_response\u001b[1;34m(self, response)\u001b[0m\n\u001b[0;32m    243\u001b[0m         alert_text \u001b[39m=\u001b[39m value[\u001b[39m\"\u001b[39m\u001b[39malert\u001b[39m\u001b[39m\"\u001b[39m]\u001b[39m.\u001b[39mget(\u001b[39m\"\u001b[39m\u001b[39mtext\u001b[39m\u001b[39m\"\u001b[39m)\n\u001b[0;32m    244\u001b[0m     \u001b[39mraise\u001b[39;00m exception_class(message, screen, stacktrace, alert_text)  \u001b[39m# type: ignore[call-arg]  # mypy is not smart enough here\u001b[39;00m\n\u001b[1;32m--> 245\u001b[0m \u001b[39mraise\u001b[39;00m exception_class(message, screen, stacktrace)\n",
      "\u001b[1;31mNoSuchWindowException\u001b[0m: Message: no such window: target window already closed\nfrom unknown error: web view not found\n  (Session info: chrome=110.0.5481.178)\nStacktrace:\nBacktrace:\n\t(No symbol) [0x010637D3]\n\t(No symbol) [0x00FF8B81]\n\t(No symbol) [0x00EFB36D]\n\t(No symbol) [0x00EDE5DA]\n\t(No symbol) [0x00F4F0CB]\n\t(No symbol) [0x00F60A56]\n\t(No symbol) [0x00F4B216]\n\t(No symbol) [0x00F20D97]\n\t(No symbol) [0x00F2253D]\n\tGetHandleVerifier [0x012DABF2+2510930]\n\tGetHandleVerifier [0x01308EC1+2700065]\n\tGetHandleVerifier [0x0130C86C+2714828]\n\tGetHandleVerifier [0x01113480+645344]\n\t(No symbol) [0x01000FD2]\n\t(No symbol) [0x01006C68]\n\t(No symbol) [0x01006D4B]\n\t(No symbol) [0x01010D6B]\n\tBaseThreadInitThunk [0x75C000F9+25]\n\tRtlGetAppContainerNamedObjectPath [0x77D07BBE+286]\n\tRtlGetAppContainerNamedObjectPath [0x77D07B8E+238]\n"
     ]
    }
   ],
   "source": [
    "# Clicking \"Not Now\" button for saving log in information\n",
    "# In this case we cant just target the button, too general, we have to target specific text\n",
    "# Using the xpath selector now, which has different syntax to css selector\n",
    "\n",
    "# could not parse save log in not now for some reason??, take note of that\n",
    "\n",
    "not_now_button = WebDriverWait(driver, 5).until(EC.element_to_be_clickable((By.XPATH, \"//button[contains(text(), 'Not Now')]\")))\n",
    "not_now_button.click()\n",
    "\n",
    "#push notifcation prompt\n",
    "not_now_button2 = WebDriverWait(driver, 5).until(EC.element_to_be_clickable((By.XPATH, \"//button[contains(text(), 'Not Now')]\")))\n",
    "not_now_button2.click()"
   ]
  },
  {
   "cell_type": "code",
   "execution_count": null,
   "metadata": {},
   "outputs": [],
   "source": [
    "def get_clickable_elem(selector:tuple, timeout=5, hold=2):\n",
    "    if hold > 0:\n",
    "        print('Holding')\n",
    "        time.sleep(hold)\n",
    "    print('Running')\n",
    "    r = WebDriverWait(driver, 5).until(EC.element_to_be_clickable(selector))\n",
    "    print('Done')\n",
    "    return r\n"
   ]
  },
  {
   "cell_type": "code",
   "execution_count": null,
   "metadata": {},
   "outputs": [],
   "source": [
    "def delaycall(func:None, delay=2):\n",
    "    if delay > 0:\n",
    "        print('Delay')\n",
    "        time.sleep(delay)\n",
    "    return func"
   ]
  },
  {
   "cell_type": "code",
   "execution_count": null,
   "metadata": {},
   "outputs": [],
   "source": [
    "# doing search and putting a search keys\n",
    "\n",
    "# get the search button by searching for the search icon svg\n",
    "search_btn = get_clickable_elem((By.CSS_SELECTOR, \"svg[aria-label='Search']\"))\n",
    "delaycall(search_btn.click)()"
   ]
  },
  {
   "cell_type": "code",
   "execution_count": null,
   "metadata": {},
   "outputs": [],
   "source": [
    "# get the search field\n",
    "search_field = get_clickable_elem((By.CSS_SELECTOR, \"input[aria-label='Search input']\"))\n",
    "print(search_field)\n",
    "delaycall(search_field.clear)()\n",
    "delaycall(search_field.send_keys)('#knotlesshair')"
   ]
  },
  {
   "cell_type": "code",
   "execution_count": null,
   "metadata": {},
   "outputs": [],
   "source": [
    "#complete the search\n",
    "search_field.send_keys(Keys.ENTER)"
   ]
  },
  {
   "cell_type": "code",
   "execution_count": null,
   "metadata": {},
   "outputs": [],
   "source": [
    "#click on two different profiles and save the and the information\n",
    "picture_one = get_clickable_elem()"
   ]
  }
 ],
 "metadata": {
  "kernelspec": {
   "display_name": "Python 3",
   "language": "python",
   "name": "python3"
  },
  "language_info": {
   "codemirror_mode": {
    "name": "ipython",
    "version": 3
   },
   "file_extension": ".py",
   "mimetype": "text/x-python",
   "name": "python",
   "nbconvert_exporter": "python",
   "pygments_lexer": "ipython3",
   "version": "3.11.1"
  },
  "orig_nbformat": 4
 },
 "nbformat": 4,
 "nbformat_minor": 2
}
